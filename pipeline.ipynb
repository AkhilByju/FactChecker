{
 "cells": [
  {
   "cell_type": "code",
   "execution_count": 91,
   "id": "6aaa0475-0235-4aa8-a607-685b8cab484a",
   "metadata": {},
   "outputs": [],
   "source": [
    "# imports\n",
    "from __future__ import annotations\n",
    "import re\n",
    "from typing import List\n",
    "import spacy\n",
    "import json, os, uuid, textwrap, pathlib\n",
    "import json, numpy as np\n",
    "from sentence_transformers import SentenceTransformer\n",
    "import faiss\n",
    "from openai import OpenAI"
   ]
  },
  {
   "cell_type": "markdown",
   "id": "0f8f182f-bbfa-461d-bddd-c5284dc45c64",
   "metadata": {},
   "source": [
    "# Fact Extractor"
   ]
  },
  {
   "cell_type": "code",
   "execution_count": 13,
   "id": "2f7a3a0f-02a0-4637-b785-bd6fd2d1eeba",
   "metadata": {},
   "outputs": [],
   "source": [
    "nlp = spacy.load(\"en_core_web_sm\")"
   ]
  },
  {
   "cell_type": "code",
   "execution_count": 15,
   "id": "7de82a25-4075-423f-95c2-06d1cfe210a6",
   "metadata": {},
   "outputs": [],
   "source": [
    "# Sentences with these words aren't presented as facts in the essay\n",
    "HEDGES = {\n",
    "    \"maybe\",\"perhaps\",\"probably\",\"possibly\",\"likely\",\"unlikely\",\"apparently\",\"reportedly\",\n",
    "    \"seems\",\"seem\",\"appears\",\"appear\",\"suggests\",\"suggest\",\"claims\",\"claim\",\"believe\",\"think\",\n",
    "    \"could\",\"might\",\"may\",\"should\",\"would\",\"argue\",\"argues\",\"allege\",\"alleges\",\"estimate\",\"estimates\"\n",
    "}\n",
    "\n",
    "FACT_ENT_LABELS = {\"DATE\",\"TIME\",\"MONEY\",\"QUANTITY\",\"PERCENT\",\"CARDINAL\",\"ORDINAL\",\"GPE\",\"LOC\",\"ORG\",\"PERSON\",\"NORP\"}\n",
    "COPULAS = {\"is\",\"are\",\"was\",\"were\",\"'s\",\"'re\"}"
   ]
  },
  {
   "cell_type": "code",
   "execution_count": 17,
   "id": "502cdd61-d428-4c10-92df-b2640c29ed79",
   "metadata": {},
   "outputs": [],
   "source": [
    "def is_imperative(doc) -> bool:\n",
    "    # no subject, root is a verb/begins with a verb\n",
    "    root = [t for t in doc if t.dep_ == \"ROOT\"]\n",
    "    root = root[0] if root else None\n",
    "    has_subject = any(t.dep_ in {\"nsubj\",\"nsubjpass\",\"csubj\"} for t in doc)\n",
    "    starts_with_verb = doc[0].pos_ == \"VERB\"\n",
    "    return (root is not None and root.pos_ == \"VERB\" and not has_subject and starts_with_verb)"
   ]
  },
  {
   "cell_type": "code",
   "execution_count": 21,
   "id": "9ab1b0e5-8ebb-4a09-b3a8-eeb471346c44",
   "metadata": {},
   "outputs": [
    {
     "data": {
      "text/plain": [
       "False"
      ]
     },
     "execution_count": 21,
     "metadata": {},
     "output_type": "execute_result"
    }
   ],
   "source": [
    "is_imperative(nlp(\"Go to your room\"))\n",
    "is_imperative(nlp(\"He was very fast\"))"
   ]
  },
  {
   "cell_type": "code",
   "execution_count": 51,
   "id": "8fd7e2cf-8e7d-423f-9a1a-be890a64be5b",
   "metadata": {},
   "outputs": [],
   "source": [
    "def factual_score(doc) -> float:\n",
    "    text = doc.text.strip()\n",
    "    tokens = [t for t in doc if not t.is_space]\n",
    "\n",
    "    # Grammer signals\n",
    "    has_verb = any(t.pos_ in {\"VERB\",\"AUX\"} for t in tokens)\n",
    "    has_subject = any(t.dep_ in {\"nsubj\",\"nsubjpass\",\"csubj\"} for t in tokens)\n",
    "    is_question = text.endswith(\"?\")\n",
    "    imperative = is_imperative(doc)\n",
    "    too_short = sum(1 for t in tokens if not t.is_punct) < 7  # very short fragments\n",
    "\n",
    "    # if the sentence is hedging\n",
    "    lower_tokens = {t.lemma_.lower() for t in tokens}\n",
    "    hedge_hits = len(HEDGES & lower_tokens)\n",
    "\n",
    "    # Factual cues: numbers, named entities, or copula statements\n",
    "    has_number = any(t.like_num for t in tokens)\n",
    "    has_entities = any(ent.label_ in FACT_ENT_LABELS for ent in doc.ents)\n",
    "    has_copula = any(t.lemma_.lower() in COPULAS for t in tokens)\n",
    "\n",
    "    # Scoring system\n",
    "    score = 0.0\n",
    "    score += 1.5 if has_verb else 0\n",
    "    score += 1.2 if has_subject else 0\n",
    "    score += 0.8 if has_copula else 0\n",
    "    score += 0.8 if (has_number or has_entities) else 0\n",
    "    score -= 1.5 if is_question else 0\n",
    "    score -= 1.0 if imperative else 0\n",
    "    score -= 0.9 * min(3, hedge_hits)  # cap penalty\n",
    "    score -= 0.9 if too_short else 0\n",
    "\n",
    "    return score"
   ]
  },
  {
   "cell_type": "code",
   "execution_count": 52,
   "id": "629ff90a-c916-4307-b7b2-8f4200021402",
   "metadata": {},
   "outputs": [
    {
     "name": "stdout",
     "output_type": "stream",
     "text": [
      "-0.4 1.8000000000000003\n"
     ]
    }
   ],
   "source": [
    "print(factual_score(nlp(\"Go to your room\")), factual_score(nlp(\"He was very fast\")))"
   ]
  },
  {
   "cell_type": "code",
   "execution_count": 53,
   "id": "93fd0ac8-1275-432c-8088-73d1bdb53ff4",
   "metadata": {},
   "outputs": [],
   "source": [
    "def is_factual_sentence(sent, threshold: float = 1.5) -> bool:\n",
    "    \"\"\"Return True if the sentence likely states a fact.\"\"\"\n",
    "    # Strip obvious non-factual patterns (standalone citations, figure captions, etc.)\n",
    "    if re.fullmatch(r\"\\(?\\d+(\\s*-\\s*\\d+)?\\)?\", sent.text.strip()):\n",
    "        return False\n",
    "    doc = nlp(sent.text)\n",
    "    return factual_score(doc) >= threshold"
   ]
  },
  {
   "cell_type": "code",
   "execution_count": 65,
   "id": "01bc7b2b-2595-4c92-8dcf-e2ca3ca4e4fe",
   "metadata": {},
   "outputs": [
    {
     "name": "stdout",
     "output_type": "stream",
     "text": [
      "True False\n"
     ]
    }
   ],
   "source": [
    "print(is_factual_sentence(nlp(\"He was very fast\")),  is_factual_sentence(nlp(\"Go to your room\")))"
   ]
  },
  {
   "cell_type": "code",
   "execution_count": 66,
   "id": "56747454-1f22-4194-b6f2-cfa0aafaf6b9",
   "metadata": {},
   "outputs": [],
   "source": [
    "def extract_factual_sentences(text: str, threshold: float = 1.5) -> List[str]:\n",
    "    \"\"\"Split into sentences and keep ones that look factual.\"\"\"\n",
    "    doc = nlp(text)\n",
    "    factual = []\n",
    "    for s in doc.sents:\n",
    "        st = s.text.strip()\n",
    "        if not st:\n",
    "            continue\n",
    "        if is_factual_sentence(s, threshold = threshold):\n",
    "            factual.append(st)\n",
    "\n",
    "    return factual"
   ]
  },
  {
   "cell_type": "code",
   "execution_count": 70,
   "id": "880ef313-d6bc-41eb-831b-ca4cb2cc0d21",
   "metadata": {},
   "outputs": [
    {
     "name": "stdout",
     "output_type": "stream",
     "text": [
      "01. Albert Einstein was a physicist, and he developed the theory of relativity.\n",
      "02. He was born in Germany but later moved to the United States.\n",
      "03. In 1921, Einstein won the Nobel Prize in Physics.\n"
     ]
    }
   ],
   "source": [
    "sample = \"\"\"\n",
    "c\n",
    "\"\"\"\n",
    "facts = extract_factual_sentences(sample, threshold=1.5)\n",
    "for i, f in enumerate(facts, 1):\n",
    "        print(f\"{i:02d}. {f}\")"
   ]
  },
  {
   "cell_type": "markdown",
   "id": "ab1d6075-9015-464a-beec-f2f7b885c95b",
   "metadata": {},
   "source": [
    "# Create Passage Store"
   ]
  },
  {
   "cell_type": "code",
   "execution_count": 78,
   "id": "c2ca6c9a-e223-460a-8358-a4d3e1aad7b4",
   "metadata": {},
   "outputs": [
    {
     "data": {
      "text/plain": [
       "3"
      ]
     },
     "execution_count": 78,
     "metadata": {},
     "output_type": "execute_result"
    }
   ],
   "source": [
    "pathlib.Path(\"data\").mkdir(exist_ok=True)\n",
    "\n",
    "passages = [\n",
    "    {\n",
    "        \"passage_id\": str(uuid.uuid4()),\n",
    "        \"title\": \"Eiffel Tower - Wikipedia\",\n",
    "        \"url\": \"https://en.wikipedia.org/wiki/Eiffel_Tower\",\n",
    "        \"source\": \"wikipedia\",\n",
    "        \"published_date\": None,\n",
    "        \"text\": \"The Eiffel Tower is a wrought-iron lattice tower in Paris, France. It was constructed from 1887 to 1889.\"\n",
    "    },\n",
    "    {\n",
    "        \"passage_id\": str(uuid.uuid4()),\n",
    "        \"title\": \"Barack Obama - Wikipedia\",\n",
    "        \"url\": \"https://en.wikipedia.org/wiki/Barack_Obama\",\n",
    "        \"source\": \"wikipedia\",\n",
    "        \"published_date\": None,\n",
    "        \"text\": \"Barack Obama served as the 44th president of the United States from 2009 to 2017.\"\n",
    "    },\n",
    "    {\n",
    "        \"passage_id\": str(uuid.uuid4()),\n",
    "        \"title\": \"Great Wall of China - Wikipedia\",\n",
    "        \"url\": \"https://en.wikipedia.org/wiki/Great_Wall_of_China\",\n",
    "        \"source\": \"wikipedia\",\n",
    "        \"published_date\": None,\n",
    "        \"text\": \"The Great Wall of China is located in northern China, stretching thousands of kilometers.\"\n",
    "    },\n",
    "]\n",
    "\n",
    "with open(\"data/passages.jsonl\", \"w\") as f:\n",
    "    for p in passages:\n",
    "        f.write(json.dumps(p) + \"\\n\")\n",
    "len(passages)\n"
   ]
  },
  {
   "cell_type": "markdown",
   "id": "18209f47-eb0b-407a-87c0-be5030f69652",
   "metadata": {},
   "source": [
    "# Embed"
   ]
  },
  {
   "cell_type": "code",
   "execution_count": 80,
   "id": "8494c26f-b009-4aac-9058-e14222397540",
   "metadata": {},
   "outputs": [
    {
     "data": {
      "application/vnd.jupyter.widget-view+json": {
       "model_id": "d2ddbf62ac3442c3b37715760369173f",
       "version_major": 2,
       "version_minor": 0
      },
      "text/plain": [
       "modules.json:   0%|          | 0.00/349 [00:00<?, ?B/s]"
      ]
     },
     "metadata": {},
     "output_type": "display_data"
    },
    {
     "data": {
      "application/vnd.jupyter.widget-view+json": {
       "model_id": "d8abf7051f134d48a7bf3d16bc0136b2",
       "version_major": 2,
       "version_minor": 0
      },
      "text/plain": [
       "config_sentence_transformers.json:   0%|          | 0.00/123 [00:00<?, ?B/s]"
      ]
     },
     "metadata": {},
     "output_type": "display_data"
    },
    {
     "data": {
      "application/vnd.jupyter.widget-view+json": {
       "model_id": "ccad3f212ac14dc59bfaa0ce8d275459",
       "version_major": 2,
       "version_minor": 0
      },
      "text/plain": [
       "README.md: 0.00B [00:00, ?B/s]"
      ]
     },
     "metadata": {},
     "output_type": "display_data"
    },
    {
     "data": {
      "application/vnd.jupyter.widget-view+json": {
       "model_id": "f7bf8bc005ef49a18f088404726c19f9",
       "version_major": 2,
       "version_minor": 0
      },
      "text/plain": [
       "sentence_bert_config.json:   0%|          | 0.00/54.0 [00:00<?, ?B/s]"
      ]
     },
     "metadata": {},
     "output_type": "display_data"
    },
    {
     "data": {
      "application/vnd.jupyter.widget-view+json": {
       "model_id": "f2788c86fcf94382887edfee76e30143",
       "version_major": 2,
       "version_minor": 0
      },
      "text/plain": [
       "config.json:   0%|          | 0.00/687 [00:00<?, ?B/s]"
      ]
     },
     "metadata": {},
     "output_type": "display_data"
    },
    {
     "data": {
      "application/vnd.jupyter.widget-view+json": {
       "model_id": "68496fee5c4f47fe961bc1bca4a895c3",
       "version_major": 2,
       "version_minor": 0
      },
      "text/plain": [
       "pytorch_model.bin:   0%|          | 0.00/2.27G [00:00<?, ?B/s]"
      ]
     },
     "metadata": {},
     "output_type": "display_data"
    },
    {
     "data": {
      "application/vnd.jupyter.widget-view+json": {
       "model_id": "cd79127593a34cbbba016f25a551d329",
       "version_major": 2,
       "version_minor": 0
      },
      "text/plain": [
       "tokenizer_config.json:   0%|          | 0.00/444 [00:00<?, ?B/s]"
      ]
     },
     "metadata": {},
     "output_type": "display_data"
    },
    {
     "data": {
      "application/vnd.jupyter.widget-view+json": {
       "model_id": "99c078ad4c784185916f32b64197f7c2",
       "version_major": 2,
       "version_minor": 0
      },
      "text/plain": [
       "sentencepiece.bpe.model:   0%|          | 0.00/5.07M [00:00<?, ?B/s]"
      ]
     },
     "metadata": {},
     "output_type": "display_data"
    },
    {
     "data": {
      "application/vnd.jupyter.widget-view+json": {
       "model_id": "1f254ff32480442bbd643fcf5dcc4afc",
       "version_major": 2,
       "version_minor": 0
      },
      "text/plain": [
       "model.safetensors:   0%|          | 0.00/2.27G [00:00<?, ?B/s]"
      ]
     },
     "metadata": {},
     "output_type": "display_data"
    },
    {
     "data": {
      "application/vnd.jupyter.widget-view+json": {
       "model_id": "02c3db2507e14f07ab070bf87f70d6ac",
       "version_major": 2,
       "version_minor": 0
      },
      "text/plain": [
       "tokenizer.json:   0%|          | 0.00/17.1M [00:00<?, ?B/s]"
      ]
     },
     "metadata": {},
     "output_type": "display_data"
    },
    {
     "data": {
      "application/vnd.jupyter.widget-view+json": {
       "model_id": "490115790d884da1b8c8fdb464444d19",
       "version_major": 2,
       "version_minor": 0
      },
      "text/plain": [
       "special_tokens_map.json:   0%|          | 0.00/964 [00:00<?, ?B/s]"
      ]
     },
     "metadata": {},
     "output_type": "display_data"
    },
    {
     "data": {
      "application/vnd.jupyter.widget-view+json": {
       "model_id": "f0cd573e71dc4b14b01547fa2cbb0b0f",
       "version_major": 2,
       "version_minor": 0
      },
      "text/plain": [
       "config.json:   0%|          | 0.00/191 [00:00<?, ?B/s]"
      ]
     },
     "metadata": {},
     "output_type": "display_data"
    },
    {
     "name": "stderr",
     "output_type": "stream",
     "text": [
      "/opt/anaconda3/envs/llms/lib/python3.11/site-packages/torch/nn/modules/module.py:1762: FutureWarning: `encoder_attention_mask` is deprecated and will be removed in version 4.55.0 for `XLMRobertaSdpaSelfAttention.forward`.\n",
      "  return forward_call(*args, **kwargs)\n"
     ]
    }
   ],
   "source": [
    "# Load passages\n",
    "rows = [json.loads(l) for l in open(\"data/passages.jsonl\")]\n",
    "texts = [r[\"text\"] for r in rows]\n",
    "\n",
    "# Load bge-m3 (CPU is fine for this tiny demo)\n",
    "encoder = SentenceTransformer(\"BAAI/bge-m3\")\n",
    "emb = encoder.encode(texts, normalize_embeddings=True, convert_to_numpy=True)\n",
    "\n",
    "# Build FAISS index (inner product == cosine when vectors are normalized)\n",
    "index = faiss.IndexFlatIP(emb.shape[1])\n",
    "index.add(emb)\n",
    "\n",
    "# Save artifacts so you can reuse\n",
    "faiss.write_index(index, \"data/faiss.index\")\n",
    "np.save(\"data/passage_ids.npy\", np.array([r[\"passage_id\"] for r in rows], dtype=\"U\"))\n",
    "with open(\"data/passage_meta.json\", \"w\") as f:\n",
    "    json.dump(rows, f)\n"
   ]
  },
  {
   "cell_type": "markdown",
   "id": "16a88411-488a-4495-b16f-eae9fa5c2315",
   "metadata": {},
   "source": [
    "# Retrieval"
   ]
  },
  {
   "cell_type": "code",
   "execution_count": 82,
   "id": "7baa71db-77ca-47a4-9612-cef25e4218ac",
   "metadata": {},
   "outputs": [],
   "source": [
    "# reload\n",
    "index = faiss.read_index(\"data/faiss.index\")\n",
    "pid_map = np.load(\"data/passage_ids.npy\", allow_pickle=True)\n",
    "meta = {r[\"passage_id\"]: r for r in json.load(open(\"data/passage_meta.json\"))}\n",
    "enc = encoder  # reuse already-loaded model"
   ]
  },
  {
   "cell_type": "code",
   "execution_count": 84,
   "id": "d7ebea0f-a4d2-4e9f-98b3-478e4423872d",
   "metadata": {},
   "outputs": [],
   "source": [
    "def retrieve_topk(query: str, k=3):\n",
    "    q = enc.encode([query], normalize_embeddings=True, convert_to_numpy=True)\n",
    "    scores, idxs = index.search(q, k)\n",
    "    out = []\n",
    "    for score, i in zip(scores[0], idxs[0]):\n",
    "        pid = pid_map[i]\n",
    "        m = meta.item().get(pid) if hasattr(meta, \"item\") else meta.get(pid)\n",
    "        out.append({\n",
    "            \"id\": pid,\n",
    "            \"title\": m[\"title\"],\n",
    "            \"url\": m[\"url\"],\n",
    "            \"source\": m[\"source\"],\n",
    "            \"published_date\": m[\"published_date\"],\n",
    "            \"text\": m[\"text\"],\n",
    "            \"score\": float(score),\n",
    "        })\n",
    "\n",
    "    return out"
   ]
  },
  {
   "cell_type": "code",
   "execution_count": 86,
   "id": "0dd33c03-b554-4f66-bc50-8e96dc067494",
   "metadata": {},
   "outputs": [
    {
     "data": {
      "text/plain": [
       "[{'id': np.str_('ccaf88fa-92cd-44c1-bd3b-5301a664e6fc'),\n",
       "  'title': 'Barack Obama - Wikipedia',\n",
       "  'url': 'https://en.wikipedia.org/wiki/Barack_Obama',\n",
       "  'source': 'wikipedia',\n",
       "  'published_date': None,\n",
       "  'text': 'Barack Obama served as the 44th president of the United States from 2009 to 2017.',\n",
       "  'score': 0.5229790210723877},\n",
       " {'id': np.str_('c0ce14bf-4e7d-4540-825e-787635a09dc2'),\n",
       "  'title': 'Eiffel Tower - Wikipedia',\n",
       "  'url': 'https://en.wikipedia.org/wiki/Eiffel_Tower',\n",
       "  'source': 'wikipedia',\n",
       "  'published_date': None,\n",
       "  'text': 'The Eiffel Tower is a wrought-iron lattice tower in Paris, France. It was constructed from 1887 to 1889.',\n",
       "  'score': 0.2773168981075287}]"
      ]
     },
     "execution_count": 86,
     "metadata": {},
     "output_type": "execute_result"
    }
   ],
   "source": [
    "retrieve_topk(\"Obama was never a president\", k=2)"
   ]
  },
  {
   "cell_type": "markdown",
   "id": "c9249dc4-1df7-4033-b599-cfcd11423aa4",
   "metadata": {},
   "source": [
    "# Prompt Builder"
   ]
  },
  {
   "cell_type": "code",
   "execution_count": 88,
   "id": "48c27ed6-c268-4231-bccc-995984e716ec",
   "metadata": {},
   "outputs": [],
   "source": [
    "SCHEMA = {\n",
    "  \"label\": \"supports|contradicts|unclear\",\n",
    "  \"confidence\": 0.0,\n",
    "  \"quotes\": [\"...\"],\n",
    "  \"notes\": \"short explanation\",\n",
    "  \"source_urls\": [\"...\"]   # must come from provided evidence only\n",
    "}"
   ]
  },
  {
   "cell_type": "code",
   "execution_count": 126,
   "id": "db5cafe8-a2e8-4931-a2a9-b704686f7003",
   "metadata": {},
   "outputs": [],
   "source": [
    "def build_prompt(claim: str, evidences: list[dict]):\n",
    "    ev_for_model = [\n",
    "        {\"title\": e[\"title\"], \"url\": e[\"url\"], \"text\": e[\"text\"][:400]}  # keep snippets short\n",
    "        for e in evidences\n",
    "    ]\n",
    "\n",
    "    return f\"\"\"You are a claim-checking assistant.\n",
    "\n",
    "Return STRICT JSON only (no prose), matching this schema:\n",
    "{json.dumps(SCHEMA, ensure_ascii=False)}\n",
    "\n",
    "Claim: {json.dumps(claim, ensure_ascii=False)}\n",
    "\n",
    "Evidence (only cite from these URLs):\n",
    "{json.dumps(ev_for_model, ensure_ascii=False)}\n",
    "\n",
    "Rules:\n",
    "- \"label\" is one of: supports, contradicts, unclear.\n",
    "- \"source_urls\" must be a subset of the evidence urls.\n",
    "- Include short \"quotes\" copied from evidence for rationale.\n",
    "- Keep \"notes\" concise.\"\"\""
   ]
  },
  {
   "cell_type": "code",
   "execution_count": 111,
   "id": "af58fe09-15e0-4313-8b73-effdbe3f8913",
   "metadata": {},
   "outputs": [],
   "source": [
    "client = OpenAI(base_url=\"http://localhost:11434/v1\", api_key=\"ollama\")"
   ]
  },
  {
   "cell_type": "code",
   "execution_count": 112,
   "id": "8c468473-2091-4645-8fd4-8f5bfb6b6ac9",
   "metadata": {},
   "outputs": [],
   "source": [
    "def call_ollama(prompt: str, model=\"gpt-oss:20b\", temperature=0.2, stream=True) -> str:\n",
    "    resp = client.chat.completions.create(\n",
    "        model=model,\n",
    "        messages=[{\"role\":\"user\",\"content\": prompt}],\n",
    "        temperature=temperature,\n",
    "        stream=stream,\n",
    "    )\n",
    "    if stream:\n",
    "        out = \"\"\n",
    "        for chunk in resp:\n",
    "            delta = chunk.choices[0].delta\n",
    "            if delta and delta.content:\n",
    "                out += delta.content\n",
    "        return out\n",
    "    else:\n",
    "        return resp.choices[0].message.content"
   ]
  },
  {
   "cell_type": "code",
   "execution_count": 113,
   "id": "2feb721d-52cb-44b7-abb4-84dd5b39d8b7",
   "metadata": {},
   "outputs": [],
   "source": [
    "def validate_or_retry(raw: str, prompt: str):\n",
    "    try:\n",
    "        data = json.loads(raw)\n",
    "    except Exception:\n",
    "        retry_prompt = prompt + \"\\n\\nThe previous output was not valid JSON. Return valid JSON only.\"\n",
    "        raw2 = call_ollama(retry_prompt)\n",
    "        try:\n",
    "            data = json.loads(raw2)\n",
    "        except Exception:\n",
    "            data = {\"label\":\"unclear\",\"confidence\":0.0,\"quotes\":[],\"notes\":\"invalid json\",\"source_urls\":[]}\n",
    "    # guardrails\n",
    "    data[\"confidence\"] = max(0.0, min(float(data.get(\"confidence\", 0.0)), 1.0))\n",
    "    # enforce URL subset\n",
    "    return data"
   ]
  },
  {
   "cell_type": "code",
   "execution_count": 123,
   "id": "3772376f-6def-4284-ae0c-18ec780e99dd",
   "metadata": {},
   "outputs": [],
   "source": [
    "def judge_claim(claim: str, k):\n",
    "    evidence = retrieve_topk(claim, k=k)\n",
    "    prompt = build_prompt(claim, evidence)\n",
    "    raw = call_ollama(prompt)\n",
    "    out = validate_or_retry(raw, prompt)\n",
    "    # enforce URL subset\n",
    "    allowed = {e[\"url\"] for e in evidence}\n",
    "    out[\"source_urls\"] = [u for u in out.get(\"source_urls\", []) if u in allowed]\n",
    "    return out, evidence"
   ]
  },
  {
   "cell_type": "code",
   "execution_count": 122,
   "id": "0f436a68-6b67-4cef-87db-3f6617355a91",
   "metadata": {},
   "outputs": [],
   "source": [
    "sample = \"\"\"Albert Einstein was a physicist, and he developed the theory of relativity. \n",
    "Maybe his ideas are kind of the best, right? What about quantum stuff?\n",
    "He was born in Germany but later moved to the United States.\n",
    "Please consider the following points. In 1921, Einstein won the Nobel Prize in Physics.\n",
    "It seems people think he was the greatest.\"\"\"\n",
    "facts = extract_factual_sentences(sample, threshold=1.5)"
   ]
  },
  {
   "cell_type": "code",
   "execution_count": 124,
   "id": "dc11771c-4d75-4d7b-85fb-75bfc54c88eb",
   "metadata": {},
   "outputs": [],
   "source": [
    "results = []\n",
    "for c in facts:\n",
    "    v, ev = judge_claim(c, k=1)\n",
    "    results.append({\"claim\": c, \"verdict\": v, \"evidence\": ev})"
   ]
  },
  {
   "cell_type": "code",
   "execution_count": 125,
   "id": "da8f4a70-0d50-4c0a-afd8-87dc0d7e735c",
   "metadata": {},
   "outputs": [
    {
     "name": "stdout",
     "output_type": "stream",
     "text": [
      "\n",
      "— Claim: Albert Einstein was a physicist, and he developed the theory of relativity.\n",
      "  Label: unclear   Confidence: █████░░░░░ 0.50\n",
      "\n",
      "— Claim: He was born in Germany but later moved to the United States.\n",
      "  Label: unclear   Confidence: █████░░░░░ 0.50\n",
      "  Quote: “Barack Obama served as the 44th president of the United States from 2009 to 2017.”\n",
      "  Sources:\n",
      "   • https://en.wikipedia.org/wiki/Barack_Obama\n",
      "\n",
      "— Claim: In 1921, Einstein won the Nobel Prize in Physics.\n",
      "  Label: unclear   Confidence: █████░░░░░ 0.50\n"
     ]
    }
   ],
   "source": [
    "def bar(x): \n",
    "    filled = int(round(x*10))\n",
    "    return \"█\"*filled + \"░\"*(10-filled)\n",
    "\n",
    "for r in results:\n",
    "    v = r[\"verdict\"]\n",
    "    print(f\"\\n— Claim: {r['claim']}\")\n",
    "    print(f\"  Label: {v['label']}   Confidence: {bar(v['confidence'])} {v['confidence']:.2f}\")\n",
    "    if v.get(\"quotes\"):\n",
    "        print(f\"  Quote: “{v['quotes'][0][:120]}”\")\n",
    "    if v.get(\"source_urls\"):\n",
    "        print(\"  Sources:\")\n",
    "        for u in v[\"source_urls\"]:\n",
    "            print(\"   •\", u)\n"
   ]
  },
  {
   "cell_type": "code",
   "execution_count": null,
   "id": "5525484f-83aa-4176-9b4b-62466c0a0dfa",
   "metadata": {},
   "outputs": [],
   "source": []
  }
 ],
 "metadata": {
  "kernelspec": {
   "display_name": "Python 3 (ipykernel)",
   "language": "python",
   "name": "python3"
  },
  "language_info": {
   "codemirror_mode": {
    "name": "ipython",
    "version": 3
   },
   "file_extension": ".py",
   "mimetype": "text/x-python",
   "name": "python",
   "nbconvert_exporter": "python",
   "pygments_lexer": "ipython3",
   "version": "3.11.13"
  }
 },
 "nbformat": 4,
 "nbformat_minor": 5
}
